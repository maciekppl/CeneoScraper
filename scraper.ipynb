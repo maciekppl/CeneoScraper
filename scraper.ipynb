{
 "cells": [
  {
   "cell_type": "markdown",
   "metadata": {},
   "source": [
    "Ceneo Scraper"
   ]
  },
  {
   "cell_type": "markdown",
   "metadata": {},
   "source": [
    "# Lista kroków \"manualnych\"\n",
    "\n",
    "1 Wejdź na stronę produktu / z opiniami o produkcie\n",
    "2 Dla każdej opinii na stronie\n",
    "    1 skopiuj opinie\n",
    "    2 wklej opinie do edytora tekstu\n",
    "3 Przejdź do kolejnej strony z opiniami\n",
    "4 Powtarzaj kroki 2 i 3 dopóki są strony z opiniami\n",
    "\n",
    "# Lista kroków scrapera\n",
    "\n",
    "1 Wysłanie żądania dostępu do zasobu - strona z opiniami o produkcie\n",
    "2 \n",
    "\n",
    "63717975\n",
    "44279952"
   ]
  },
  {
   "cell_type": "markdown",
   "metadata": {},
   "source": [
    "|składowa|nazwa|selektor|\n",
    "|--------|-----|--------|\n",
    "|identyfikator opinii|opinion_id||\n",
    "|autora|autor||\n",
    "|rekomendację|recommendation||\n",
    "|data wystawienia opinii|post_date||\n",
    "|data zakupu produktu|purchase_date||\n",
    "|ile osób uznało opinię za przydatną|useful||\n",
    "|ile osób uznało opinię za nieprzydatną|useless||\n",
    "|treść opinii|content||\n",
    "|listę wad|cons||\n",
    "|listę zalet|pros||"
   ]
  },
  {
   "cell_type": "markdown",
   "metadata": {},
   "source": [
    "1. Import bibliotek"
   ]
  },
  {
   "cell_type": "code",
   "execution_count": 14,
   "metadata": {},
   "outputs": [],
   "source": [
    "import requests"
   ]
  },
  {
   "cell_type": "markdown",
   "metadata": {},
   "source": [
    "2. Wysłanie żądania dostępu do zasobu"
   ]
  },
  {
   "cell_type": "code",
   "execution_count": 15,
   "metadata": {},
   "outputs": [],
   "source": [
    "import requests\n",
    "from bs4 import BeautifulSoup\n",
    "product_code= \"63717975\"\n",
    "url = f\"https://www.ceneo.pl/{product_code}#tab-reviews\"\n",
    "response = requests.get(url)"
   ]
  },
  {
   "cell_type": "markdown",
   "metadata": {},
   "source": [
    "3. Wydobycie z kodu HTML fragmentów odpowiadających opiniom"
   ]
  },
  {
   "cell_type": "code",
   "execution_count": 16,
   "metadata": {},
   "outputs": [
    {
     "name": "stdout",
     "output_type": "stream",
     "text": [
      "<class 'bs4.element.ResultSet'>\n"
     ]
    }
   ],
   "source": [
    "page = BeautifulSoup(response.text, \"html.parser\")\n",
    "opinions = page.select(\"div.js_product-review\")\n",
    "print(type(opinions))"
   ]
  },
  {
   "cell_type": "markdown",
   "metadata": {},
   "source": [
    "4. Wydobycie z kodu opinii jej składowych dla każdej opinii na stronie"
   ]
  },
  {
   "cell_type": "code",
   "execution_count": 17,
   "metadata": {},
   "outputs": [],
   "source": [
    "for opinion in opinions:\n",
    "    pass"
   ]
  }
 ],
 "metadata": {
  "kernelspec": {
   "display_name": ".venv",
   "language": "python",
   "name": "python3"
  },
  "language_info": {
   "codemirror_mode": {
    "name": "ipython",
    "version": 3
   },
   "file_extension": ".py",
   "mimetype": "text/x-python",
   "name": "python",
   "nbconvert_exporter": "python",
   "pygments_lexer": "ipython3",
   "version": "3.12.2"
  }
 },
 "nbformat": 4,
 "nbformat_minor": 2
}
