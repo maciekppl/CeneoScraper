{
 "cells": [
  {
   "cell_type": "markdown",
   "metadata": {},
   "source": [
    "Ceneo Scraper"
   ]
  },
  {
   "cell_type": "markdown",
   "metadata": {},
   "source": [
    "# Lista kroków \"manualnych\"\n",
    "\n",
    "1 Wejdź na stronę produktu / z opiniami o produkcie\n",
    "2 Dla każdej opinii na stronie\n",
    "    1 skopiuj opinie\n",
    "    2 wklej opinie do edytora tekstu\n",
    "3 Przejdź do kolejnej strony z opiniami\n",
    "4 Powtarzaj kroki 2 i 3 dopóki są strony z opiniami\n",
    "\n",
    "# Lista kroków scrapera\n",
    "\n",
    "1 Wysłanie żądania dostępu do zasobu - strona z opiniami o produkcie\n",
    "2 \n",
    "\n",
    "63717975\n",
    "44279952"
   ]
  },
  {
   "cell_type": "markdown",
   "metadata": {},
   "source": [
    "|składowa|nazwa|selektor|\n",
    "|--------|-----|--------|\n",
    "|identyfikator opinii|opinion_id|[\"data-entry-id\"]|\n",
    "|autora|autor|.user-post__author-name|\n",
    "|rekomendację|recommendation|span.user-post__recomendation > em|\n",
    "|data wystawienia opinii|post_date|span.user-post__published > time:nth-child(1)[\"datetime\"]|\n",
    "|data zakupu produktu|purchase_date|span.user-post__published > time:nth-child(2)[\"datetime\"]|\n",
    "|ile osób uznało opinię za przydatną|useful|.vote-yes > span|\n",
    "|ile osób uznało opinię za nieprzydatną|useless|.vote-no > span|\n",
    "|treść opinii|content|div.user-post__text|\n",
    "|listę wad|cons|div.review-feature__title--negatives ~ div.review-feature__item|\n",
    "|listę zalet|pros|div.review-feature__title--positive ~ div.review-feature__item|\n",
    "|liczba gwiazdek|stars|span.user-post__score-count|"
   ]
  },
  {
   "cell_type": "markdown",
   "metadata": {},
   "source": [
    "1. Import bibliotek"
   ]
  },
  {
   "cell_type": "code",
   "execution_count": 27,
   "metadata": {},
   "outputs": [],
   "source": [
    "import requests\n",
    "import json\n",
    "import os"
   ]
  },
  {
   "cell_type": "markdown",
   "metadata": {},
   "source": [
    "2. Podanie adresu pierwszej strony z opiniami na podstawie kodu produktu"
   ]
  },
  {
   "cell_type": "code",
   "execution_count": 28,
   "metadata": {},
   "outputs": [],
   "source": [
    "\n",
    "from bs4 import BeautifulSoup\n",
    "product_code= input(\"Podaj kod produktu z ceneo.pl: \")\n",
    "url = f\"https://www.ceneo.pl/{product_code}#tab-reviews\"\n"
   ]
  },
  {
   "cell_type": "markdown",
   "metadata": {},
   "source": [
    "3. Pobranie wszystkich opinii o produkcie z serwisu ceneo.pl"
   ]
  },
  {
   "cell_type": "code",
   "execution_count": 29,
   "metadata": {},
   "outputs": [],
   "source": [
    "def get_data(ancestor, selector, attribute=None, return_list=False):\n",
    "    if return_list:\n",
    "        return [tag.text.strip() for tag in ancestor.select(selector)]\n",
    "    if attribute:\n",
    "        if selector:\n",
    "            try:\n",
    "                return ancestor.select_one(selector)[attribute].strip()\n",
    "            except TypeError:\n",
    "                return None\n",
    "    try:\n",
    "        return ancestor.select_one(selector).text.strip()\n",
    "    except AttributeError:\n",
    "        return None\n"
   ]
  },
  {
   "cell_type": "code",
   "execution_count": 30,
   "metadata": {},
   "outputs": [
    {
     "name": "stdout",
     "output_type": "stream",
     "text": [
      "https://www.ceneo.pl/63717975#tab-reviews\n",
      "https://ceneo.pl/63717975/opinie-2\n",
      "https://ceneo.pl/63717975/opinie-3\n",
      "https://ceneo.pl/63717975/opinie-4\n",
      "https://ceneo.pl/63717975/opinie-5\n",
      "https://ceneo.pl/63717975/opinie-6\n",
      "https://ceneo.pl/63717975/opinie-7\n",
      "https://ceneo.pl/63717975/opinie-8\n",
      "https://ceneo.pl/63717975/opinie-9\n",
      "https://ceneo.pl/63717975/opinie-10\n",
      "https://ceneo.pl/63717975/opinie-11\n",
      "https://ceneo.pl/63717975/opinie-12\n",
      "https://ceneo.pl/63717975/opinie-13\n",
      "https://ceneo.pl/63717975/opinie-14\n",
      "https://ceneo.pl/63717975/opinie-15\n"
     ]
    }
   ],
   "source": [
    "all_opinions = []\n",
    "while(url):\n",
    "    print(url)\n",
    "    response = requests.get(url)\n",
    "    page = BeautifulSoup(response.text, \"html.parser\")\n",
    "    opinions = page.select(\"div.js_product-review\")\n",
    "\n",
    "    for opinion in opinions:\n",
    "        single_opinion = {\n",
    "            'opinion_id': opinion[\"data-entry-id\"].strip(),\n",
    "            'author': get_data(opinion, \".user-post__author-name\"),\n",
    "            'recommendation': get_data(opinion, \"span.user-post__recomendation > em\"),\n",
    "            'stars': get_data(opinion, \"span.user-post__score-count\"),\n",
    "            'content': get_data(opinion, \"div.user-post__text\"),\n",
    "            'pros': get_data(opinion, \"div.review-feature__title--positives ~ div.  review-feature__item\", None, True),\n",
    "            'cons': get_data(opinion, \"div.review-feature__title--negatives ~ div.review-feature__item\", None, True),\n",
    "            'post_date': get_data(opinion, \"span.user-post__published > time:nth-child(1)\", \"datetime\"),\n",
    "            'purchase_date': get_data(opinion, \"span.user-post__published > time:nth-child(2)\", \"datetime\"),\n",
    "            'useful': get_data(opinion, \".vote-yes > span\"),\n",
    "            'useless': get_data(opinion, \".vote-no > span\"),\n",
    "        }\n",
    "        all_opinions.append(single_opinion)\n",
    "    \n",
    "    try:\n",
    "        url = \"https://ceneo.pl\"+page.select_one('a.pagination__next')['href']\n",
    "    except TypeError:\n",
    "        url = None"
   ]
  },
  {
   "cell_type": "markdown",
   "metadata": {},
   "source": [
    "5. Zapis opinii do pliku JSON"
   ]
  },
  {
   "cell_type": "code",
   "execution_count": 32,
   "metadata": {},
   "outputs": [],
   "source": [
    "if not os.path.exists(\"opinions\"):\n",
    "    os.mkdir(\"opinions\")\n",
    "jf = open(f\"opinions/{product_code}.json\", \"w\", encoding=\"UTF-8\")\n",
    "json.dump(all_opinions, jf, indent=4, ensure_ascii=False)\n",
    "jf.close()"
   ]
  },
  {
   "cell_type": "markdown",
   "metadata": {},
   "source": [
    "Definicje stałych i globalnych"
   ]
  },
  {
   "cell_type": "code",
   "execution_count": null,
   "metadata": {},
   "outputs": [],
   "source": []
  }
 ],
 "metadata": {
  "kernelspec": {
   "display_name": ".venv",
   "language": "python",
   "name": "python3"
  },
  "language_info": {
   "codemirror_mode": {
    "name": "ipython",
    "version": 3
   },
   "file_extension": ".py",
   "mimetype": "text/x-python",
   "name": "python",
   "nbconvert_exporter": "python",
   "pygments_lexer": "ipython3",
   "version": "3.12.2"
  }
 },
 "nbformat": 4,
 "nbformat_minor": 2
}
