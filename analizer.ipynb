{
 "cells": [
  {
   "cell_type": "code",
   "execution_count": null,
   "metadata": {},
   "outputs": [],
   "source": []
  },
  {
   "cell_type": "markdown",
   "metadata": {},
   "source": [
    "# Ceneo Analyzer\n",
    "\n",
    "1. Wyświelenie listy kodów produktów o których zostały pobrane opinie\n",
    "2. Pobranie od użytkownika kodu produktu którego statystyki mają być policzone\n",
    "3. Wczytanie z pliku json opinii o produkcie którego statystyki mają być policzone\n",
    "4. Policzenie podstawowych statystyk\n",
    "5. Przygotowanie wykresów\n",
    "    - Histogram częstości ocen produktów\n",
    "    - Wykres udziału rekomendacji w opiniach"
   ]
  },
  {
   "cell_type": "markdown",
   "metadata": {},
   "source": [
    "1. Import bibliotek"
   ]
  },
  {
   "cell_type": "code",
   "execution_count": 34,
   "metadata": {},
   "outputs": [],
   "source": [
    "import os\n",
    "import pandas as pd\n",
    "import numpy as np\n",
    "from matplotlib import pyplot as plt"
   ]
  },
  {
   "cell_type": "markdown",
   "metadata": {},
   "source": [
    "2. Wyświetlenie listy kodów produktów o których zostały pobrane opinie"
   ]
  },
  {
   "cell_type": "code",
   "execution_count": 35,
   "metadata": {},
   "outputs": [
    {
     "name": "stdout",
     "output_type": "stream",
     "text": [
      "63717975\n"
     ]
    }
   ],
   "source": [
    "print(*[filename.split(\".\")[0] for filename in os.listdir('opinions')], sep=\"\\n\")"
   ]
  },
  {
   "cell_type": "markdown",
   "metadata": {},
   "source": [
    "3. Pobranie od użytkownika kodu produktu"
   ]
  },
  {
   "cell_type": "code",
   "execution_count": 36,
   "metadata": {},
   "outputs": [],
   "source": [
    "product_code= input(\"Podaj kod produktu z ceneo.pl: \")"
   ]
  },
  {
   "cell_type": "markdown",
   "metadata": {},
   "source": [
    "4. Wczytanie z pliku json opinii o produkcie którego statystyki mają być policzone"
   ]
  },
  {
   "cell_type": "code",
   "execution_count": 38,
   "metadata": {},
   "outputs": [],
   "source": [
    "opinions = pd.read_json(f\"opinions/{product_code}.json\")\n",
    "opinions.stars = opinions.stars.apply(lambda s: float(s.split('/')[0].replace(\",\", \".\")))"
   ]
  },
  {
   "cell_type": "markdown",
   "metadata": {},
   "source": [
    "5. Policzenie podstawowych statystyk"
   ]
  },
  {
   "cell_type": "code",
   "execution_count": 40,
   "metadata": {},
   "outputs": [
    {
     "data": {
      "text/plain": [
       "4.634228187919463"
      ]
     },
     "execution_count": 40,
     "metadata": {},
     "output_type": "execute_result"
    }
   ],
   "source": [
    "opinions_count = opinions.shape[0]\n",
    "#pros_count = opinions.pros.astype(bool).sum()\n",
    "#cons_count = opinions.cons.astype(bool).sum()\n",
    "average_count = opinions.stars.mean()\n",
    "average_count"
   ]
  },
  {
   "cell_type": "markdown",
   "metadata": {},
   "source": [
    "6. Histogram częstości ocen produktu"
   ]
  },
  {
   "cell_type": "code",
   "execution_count": 41,
   "metadata": {},
   "outputs": [
    {
     "data": {
      "text/plain": [
       "(array([ 0,  1,  2,  3,  4,  5,  6,  7,  8,  9, 10]),\n",
       " [Text(0, 0, '0.0'),\n",
       "  Text(1, 0, '0.5'),\n",
       "  Text(2, 0, '1.0'),\n",
       "  Text(3, 0, '1.5'),\n",
       "  Text(4, 0, '2.0'),\n",
       "  Text(5, 0, '2.5'),\n",
       "  Text(6, 0, '3.0'),\n",
       "  Text(7, 0, '3.5'),\n",
       "  Text(8, 0, '4.0'),\n",
       "  Text(9, 0, '4.5'),\n",
       "  Text(10, 0, '5.0')])"
      ]
     },
     "execution_count": 41,
     "metadata": {},
     "output_type": "execute_result"
    },
    {
     "data": {
      "image/png": "[encoded data removed]",
      "text/plain": [
       "<Figure size 640x480 with 1 Axes>"
      ]
     },
     "metadata": {},
     "output_type": "display_data"
    }
   ],
   "source": [
    "stars_distr = opinions.stars.value_counts().reindex(np.arange(0,5.001,0.5), fill_value=0)\n",
    "stars_distr.plot.bar()\n",
    "\n",
    "plt.title(f\"Histogram częstości ocen produktu {product_code}\")\n",
    "plt.xlabel(\"Liczba gwiazdek\")\n",
    "plt.ylabel(\"liczba opinii\")\n",
    "plt.xticks(rotation=0)"
   ]
  },
  {
   "cell_type": "markdown",
   "metadata": {},
   "source": [
    "7. Wykres udziału rekomendacji w opiniach"
   ]
  },
  {
   "cell_type": "code",
   "execution_count": 44,
   "metadata": {},
   "outputs": [
    {
     "ename": "ValueError",
     "evalue": "pie requires either y column or 'subplots=True'",
     "output_type": "error",
     "traceback": [
      "\u001b[1;31m---------------------------------------------------------------------------\u001b[0m",
      "\u001b[1;31mValueError\u001b[0m                                Traceback (most recent call last)",
      "Cell \u001b[1;32mIn[44], line 1\u001b[0m\n\u001b[1;32m----> 1\u001b[0m \u001b[43mopinions\u001b[49m\u001b[38;5;241;43m.\u001b[39;49m\u001b[43mplot\u001b[49m\u001b[38;5;241;43m.\u001b[39;49m\u001b[43mpie\u001b[49m\u001b[43m(\u001b[49m\u001b[43mautopct\u001b[49m\u001b[38;5;241;43m=\u001b[39;49m\u001b[38;5;124;43m'\u001b[39;49m\u001b[38;5;132;43;01m%1.1f\u001b[39;49;00m\u001b[38;5;132;43;01m%%\u001b[39;49;00m\u001b[38;5;124;43m'\u001b[39;49m\u001b[43m,\u001b[49m\u001b[43m \u001b[49m\u001b[43mcolors\u001b[49m\u001b[38;5;241;43m=\u001b[39;49m\u001b[43m[\u001b[49m\u001b[38;5;124;43m'\u001b[39;49m\u001b[38;5;124;43m#ff9999\u001b[39;49m\u001b[38;5;124;43m'\u001b[39;49m\u001b[43m,\u001b[49m\u001b[38;5;124;43m'\u001b[39;49m\u001b[38;5;124;43m#66b3ff\u001b[39;49m\u001b[38;5;124;43m'\u001b[39;49m\u001b[43m]\u001b[49m\u001b[43m)\u001b[49m\n\u001b[0;32m      2\u001b[0m plt\u001b[38;5;241m.\u001b[39mshow()\n",
      "File \u001b[1;32mc:\\Users\\USER\\Desktop\\python-zadania\\zadania-szkoła\\CeneoScraper\\.venv\\Lib\\site-packages\\pandas\\plotting\\_core.py:1657\u001b[0m, in \u001b[0;36mPlotAccessor.pie\u001b[1;34m(self, **kwargs)\u001b[0m\n\u001b[0;32m   1606\u001b[0m \u001b[38;5;250m\u001b[39m\u001b[38;5;124;03m\"\"\"\u001b[39;00m\n\u001b[0;32m   1607\u001b[0m \u001b[38;5;124;03mGenerate a pie plot.\u001b[39;00m\n\u001b[0;32m   1608\u001b[0m \n\u001b[1;32m   (...)\u001b[0m\n\u001b[0;32m   1650\u001b[0m \u001b[38;5;124;03m    >>> plot = df.plot.pie(subplots=True, figsize=(11, 6))\u001b[39;00m\n\u001b[0;32m   1651\u001b[0m \u001b[38;5;124;03m\"\"\"\u001b[39;00m\n\u001b[0;32m   1652\u001b[0m \u001b[38;5;28;01mif\u001b[39;00m (\n\u001b[0;32m   1653\u001b[0m     \u001b[38;5;28misinstance\u001b[39m(\u001b[38;5;28mself\u001b[39m\u001b[38;5;241m.\u001b[39m_parent, ABCDataFrame)\n\u001b[0;32m   1654\u001b[0m     \u001b[38;5;129;01mand\u001b[39;00m kwargs\u001b[38;5;241m.\u001b[39mget(\u001b[38;5;124m\"\u001b[39m\u001b[38;5;124my\u001b[39m\u001b[38;5;124m\"\u001b[39m, \u001b[38;5;28;01mNone\u001b[39;00m) \u001b[38;5;129;01mis\u001b[39;00m \u001b[38;5;28;01mNone\u001b[39;00m\n\u001b[0;32m   1655\u001b[0m     \u001b[38;5;129;01mand\u001b[39;00m \u001b[38;5;129;01mnot\u001b[39;00m kwargs\u001b[38;5;241m.\u001b[39mget(\u001b[38;5;124m\"\u001b[39m\u001b[38;5;124msubplots\u001b[39m\u001b[38;5;124m\"\u001b[39m, \u001b[38;5;28;01mFalse\u001b[39;00m)\n\u001b[0;32m   1656\u001b[0m ):\n\u001b[1;32m-> 1657\u001b[0m     \u001b[38;5;28;01mraise\u001b[39;00m \u001b[38;5;167;01mValueError\u001b[39;00m(\u001b[38;5;124m\"\u001b[39m\u001b[38;5;124mpie requires either y column or \u001b[39m\u001b[38;5;124m'\u001b[39m\u001b[38;5;124msubplots=True\u001b[39m\u001b[38;5;124m'\u001b[39m\u001b[38;5;124m\"\u001b[39m)\n\u001b[0;32m   1658\u001b[0m \u001b[38;5;28;01mreturn\u001b[39;00m \u001b[38;5;28mself\u001b[39m(kind\u001b[38;5;241m=\u001b[39m\u001b[38;5;124m\"\u001b[39m\u001b[38;5;124mpie\u001b[39m\u001b[38;5;124m\"\u001b[39m, \u001b[38;5;241m*\u001b[39m\u001b[38;5;241m*\u001b[39mkwargs)\n",
      "\u001b[1;31mValueError\u001b[0m: pie requires either y column or 'subplots=True'"
     ]
    }
   ],
   "source": [
    "opinions.plot.pie(autopct='%1.1f%%', colors=['#ff9999','#66b3ff'])\n",
    "plt.show()"
   ]
  },
  {
   "cell_type": "code",
   "execution_count": 42,
   "metadata": {},
   "outputs": [
    {
     "data": {
      "text/html": [
       "<div>\n",
       "<style scoped>\n",
       "    .dataframe tbody tr th:only-of-type {\n",
       "        vertical-align: middle;\n",
       "    }\n",
       "\n",
       "    .dataframe tbody tr th {\n",
       "        vertical-align: top;\n",
       "    }\n",
       "\n",
       "    .dataframe thead th {\n",
       "        text-align: right;\n",
       "    }\n",
       "</style>\n",
       "<table border=\"1\" class=\"dataframe\">\n",
       "  <thead>\n",
       "    <tr style=\"text-align: right;\">\n",
       "      <th></th>\n",
       "      <th>opinion_id</th>\n",
       "      <th>author</th>\n",
       "      <th>recommendation</th>\n",
       "      <th>stars</th>\n",
       "      <th>content</th>\n",
       "      <th>post_date</th>\n",
       "      <th>purchase_date</th>\n",
       "      <th>useful</th>\n",
       "      <th>useless</th>\n",
       "    </tr>\n",
       "  </thead>\n",
       "  <tbody>\n",
       "    <tr>\n",
       "      <th>0</th>\n",
       "      <td>16455702</td>\n",
       "      <td>p...m</td>\n",
       "      <td>NaN</td>\n",
       "      <td>5.0</td>\n",
       "      <td>Mała zgrabna drukarka do podstawowych domowych...</td>\n",
       "      <td>2022-08-25 13:57:59</td>\n",
       "      <td>2022-08-01 08:30:44</td>\n",
       "      <td>2</td>\n",
       "      <td>0</td>\n",
       "    </tr>\n",
       "    <tr>\n",
       "      <th>1</th>\n",
       "      <td>16631156</td>\n",
       "      <td>pechowiec6</td>\n",
       "      <td>NaN</td>\n",
       "      <td>5.0</td>\n",
       "      <td>Zapewne pomyślicie sobie, że drukarka jak druk...</td>\n",
       "      <td>2022-10-13 23:18:23</td>\n",
       "      <td>2022-08-29 15:33:04</td>\n",
       "      <td>5</td>\n",
       "      <td>0</td>\n",
       "    </tr>\n",
       "    <tr>\n",
       "      <th>2</th>\n",
       "      <td>12034558</td>\n",
       "      <td>Dariusz</td>\n",
       "      <td>NaN</td>\n",
       "      <td>3.5</td>\n",
       "      <td>ładny design lecz jeśli papier jest załadowany...</td>\n",
       "      <td>2020-04-01 17:21:14</td>\n",
       "      <td>2020-03-24 14:05:37</td>\n",
       "      <td>21</td>\n",
       "      <td>0</td>\n",
       "    </tr>\n",
       "    <tr>\n",
       "      <th>3</th>\n",
       "      <td>17783182</td>\n",
       "      <td>a...t</td>\n",
       "      <td>NaN</td>\n",
       "      <td>5.0</td>\n",
       "      <td>Nie jest to mercedes, ale patrząc na cenę to z...</td>\n",
       "      <td>2023-08-08 11:12:06</td>\n",
       "      <td>2023-07-29 07:09:24</td>\n",
       "      <td>0</td>\n",
       "      <td>0</td>\n",
       "    </tr>\n",
       "    <tr>\n",
       "      <th>4</th>\n",
       "      <td>11736344</td>\n",
       "      <td>Użytkownik Ceneo</td>\n",
       "      <td>NaN</td>\n",
       "      <td>4.0</td>\n",
       "      <td>Bardzo dobry stosunek jakości do ceny. W zesta...</td>\n",
       "      <td>2020-02-13 12:25:52</td>\n",
       "      <td>2020-02-10 13:50:49</td>\n",
       "      <td>1</td>\n",
       "      <td>0</td>\n",
       "    </tr>\n",
       "    <tr>\n",
       "      <th>...</th>\n",
       "      <td>...</td>\n",
       "      <td>...</td>\n",
       "      <td>...</td>\n",
       "      <td>...</td>\n",
       "      <td>...</td>\n",
       "      <td>...</td>\n",
       "      <td>...</td>\n",
       "      <td>...</td>\n",
       "      <td>...</td>\n",
       "    </tr>\n",
       "    <tr>\n",
       "      <th>144</th>\n",
       "      <td>8470807</td>\n",
       "      <td>Użytkownik Ceneo</td>\n",
       "      <td>NaN</td>\n",
       "      <td>4.0</td>\n",
       "      <td>Za głosna</td>\n",
       "      <td>2018-10-22 21:28:53</td>\n",
       "      <td>None</td>\n",
       "      <td>0</td>\n",
       "      <td>3</td>\n",
       "    </tr>\n",
       "    <tr>\n",
       "      <th>145</th>\n",
       "      <td>13791965</td>\n",
       "      <td>Wojciech</td>\n",
       "      <td>NaN</td>\n",
       "      <td>0.5</td>\n",
       "      <td>Nie dotarła do mnie z winy sprzedawcy ,sprzeda...</td>\n",
       "      <td>2021-01-18 18:02:33</td>\n",
       "      <td>2021-01-13 17:04:56</td>\n",
       "      <td>0</td>\n",
       "      <td>1</td>\n",
       "    </tr>\n",
       "    <tr>\n",
       "      <th>146</th>\n",
       "      <td>12134577</td>\n",
       "      <td>Użytkownik Ceneo</td>\n",
       "      <td>NaN</td>\n",
       "      <td>0.5</td>\n",
       "      <td>bd</td>\n",
       "      <td>2020-04-14 08:12:03</td>\n",
       "      <td>2020-03-25 06:42:23</td>\n",
       "      <td>0</td>\n",
       "      <td>2</td>\n",
       "    </tr>\n",
       "    <tr>\n",
       "      <th>147</th>\n",
       "      <td>8516386</td>\n",
       "      <td>Użytkownik Ceneo</td>\n",
       "      <td>NaN</td>\n",
       "      <td>1.5</td>\n",
       "      <td>No, HP 1200, jaką pracowałem przez lata to ta ...</td>\n",
       "      <td>2018-11-04 21:08:15</td>\n",
       "      <td>None</td>\n",
       "      <td>0</td>\n",
       "      <td>2</td>\n",
       "    </tr>\n",
       "    <tr>\n",
       "      <th>148</th>\n",
       "      <td>10742811</td>\n",
       "      <td>Norbert</td>\n",
       "      <td>NaN</td>\n",
       "      <td>0.5</td>\n",
       "      <td>Uwaga na opisy Ceneo! Ta drukarka nie ma duple...</td>\n",
       "      <td>2019-07-04 14:47:03</td>\n",
       "      <td>None</td>\n",
       "      <td>3</td>\n",
       "      <td>5</td>\n",
       "    </tr>\n",
       "  </tbody>\n",
       "</table>\n",
       "<p>149 rows × 9 columns</p>\n",
       "</div>"
      ],
      "text/plain": [
       "     opinion_id            author  recommendation  stars  \\\n",
       "0      16455702             p...m             NaN    5.0   \n",
       "1      16631156        pechowiec6             NaN    5.0   \n",
       "2      12034558           Dariusz             NaN    3.5   \n",
       "3      17783182             a...t             NaN    5.0   \n",
       "4      11736344  Użytkownik Ceneo             NaN    4.0   \n",
       "..          ...               ...             ...    ...   \n",
       "144     8470807  Użytkownik Ceneo             NaN    4.0   \n",
       "145    13791965          Wojciech             NaN    0.5   \n",
       "146    12134577  Użytkownik Ceneo             NaN    0.5   \n",
       "147     8516386  Użytkownik Ceneo             NaN    1.5   \n",
       "148    10742811           Norbert             NaN    0.5   \n",
       "\n",
       "                                               content            post_date  \\\n",
       "0    Mała zgrabna drukarka do podstawowych domowych...  2022-08-25 13:57:59   \n",
       "1    Zapewne pomyślicie sobie, że drukarka jak druk...  2022-10-13 23:18:23   \n",
       "2    ładny design lecz jeśli papier jest załadowany...  2020-04-01 17:21:14   \n",
       "3    Nie jest to mercedes, ale patrząc na cenę to z...  2023-08-08 11:12:06   \n",
       "4    Bardzo dobry stosunek jakości do ceny. W zesta...  2020-02-13 12:25:52   \n",
       "..                                                 ...                  ...   \n",
       "144                                          Za głosna  2018-10-22 21:28:53   \n",
       "145  Nie dotarła do mnie z winy sprzedawcy ,sprzeda...  2021-01-18 18:02:33   \n",
       "146                                                 bd  2020-04-14 08:12:03   \n",
       "147  No, HP 1200, jaką pracowałem przez lata to ta ...  2018-11-04 21:08:15   \n",
       "148  Uwaga na opisy Ceneo! Ta drukarka nie ma duple...  2019-07-04 14:47:03   \n",
       "\n",
       "           purchase_date  useful  useless  \n",
       "0    2022-08-01 08:30:44       2        0  \n",
       "1    2022-08-29 15:33:04       5        0  \n",
       "2    2020-03-24 14:05:37      21        0  \n",
       "3    2023-07-29 07:09:24       0        0  \n",
       "4    2020-02-10 13:50:49       1        0  \n",
       "..                   ...     ...      ...  \n",
       "144                 None       0        3  \n",
       "145  2021-01-13 17:04:56       0        1  \n",
       "146  2020-03-25 06:42:23       0        2  \n",
       "147                 None       0        2  \n",
       "148                 None       3        5  \n",
       "\n",
       "[149 rows x 9 columns]"
      ]
     },
     "execution_count": 42,
     "metadata": {},
     "output_type": "execute_result"
    }
   ],
   "source": [
    "opinions"
   ]
  }
 ],
 "metadata": {
  "kernelspec": {
   "display_name": ".venv",
   "language": "python",
   "name": "python3"
  },
  "language_info": {
   "codemirror_mode": {
    "name": "ipython",
    "version": 3
   },
   "file_extension": ".py",
   "mimetype": "text/x-python",
   "name": "python",
   "nbconvert_exporter": "python",
   "pygments_lexer": "ipython3",
   "version": "3.12.2"
  }
 },
 "nbformat": 4,
 "nbformat_minor": 2
}
